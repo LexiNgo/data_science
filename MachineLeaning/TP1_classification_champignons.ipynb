{
  "cells": [
    {
      "cell_type": "markdown",
      "metadata": {
        "id": "view-in-github",
        "colab_type": "text"
      },
      "source": [
        "<a href=\"https://colab.research.google.com/github/LexiNgo/data_science/blob/main/MachineLeaning/TP1_classification_champignons.ipynb\" target=\"_parent\"><img src=\"https://colab.research.google.com/assets/colab-badge.svg\" alt=\"Open In Colab\"/></a>"
      ]
    },
    {
      "cell_type": "markdown",
      "metadata": {
        "id": "ro465fJcp7Qy"
      },
      "source": [
        "## Machine Learning TP1 : Reconnaissance de Champignon"
      ]
    },
    {
      "cell_type": "markdown",
      "metadata": {
        "id": "okzYr3Uep7Q1"
      },
      "source": [
        "### Import des librairies"
      ]
    },
    {
      "cell_type": "code",
      "execution_count": 19,
      "metadata": {
        "id": "waSbqd4zp7Q2"
      },
      "outputs": [],
      "source": [
        "import pandas as pd\n",
        "import numpy as np\n",
        "import os\n",
        "from IPython.display import Image, display\n",
        "\n",
        "from sklearn import preprocessing\n",
        "\n",
        "from sklearn.metrics import accuracy_score\n",
        "from sklearn import tree\n",
        "from sklearn import ensemble\n",
        "from sklearn.tree import export_graphviz\n",
        "from sklearn.preprocessing import OneHotEncoder\n",
        "pd.set_option('display.max_rows', None) # Afficher toutes les lignes des dataframes\n",
        "pd.set_option('display.max_columns', None) # Afficher toutes les lignes des dataframes"
      ]
    },
    {
      "cell_type": "markdown",
      "metadata": {
        "id": "i_V1Tt8cp7Q5"
      },
      "source": [
        "### 1. Preparation des données"
      ]
    },
    {
      "cell_type": "markdown",
      "metadata": {
        "id": "bQ9SfY8pp7Q6"
      },
      "source": [
        "1.1 importer et afficher les données dans un DataFrame.\n",
        "\n",
        "Afficher le nombre de champignons toxiques ou non.\n",
        "\n",
        "Vérifier qu'il n'y as pas de valeurs nulles"
      ]
    },
    {
      "cell_type": "code",
      "source": [
        "dataFrame = pd.read_csv('/content/sample_data/champignons.csv')\n",
        "dataFrame.info()"
      ],
      "metadata": {
        "id": "o30AgvzVvZGf",
        "outputId": "3f04a87e-0be5-4502-9771-229bbf0eabad",
        "colab": {
          "base_uri": "https://localhost:8080/"
        }
      },
      "execution_count": 27,
      "outputs": [
        {
          "output_type": "stream",
          "name": "stdout",
          "text": [
            "<class 'pandas.core.frame.DataFrame'>\n",
            "RangeIndex: 8124 entries, 0 to 8123\n",
            "Data columns (total 11 columns):\n",
            " #   Column                   Non-Null Count  Dtype \n",
            "---  ------                   --------------  ----- \n",
            " 0   toxicite                 8124 non-null   object\n",
            " 1   surface-chapeau          8124 non-null   object\n",
            " 2   ecchymoses               8124 non-null   object\n",
            " 3   attache-lamelles         8124 non-null   object\n",
            " 4   taille-lamelles          8124 non-null   object\n",
            " 5   forme-pied               8124 non-null   object\n",
            " 6   surface-pied-sur-anneau  8124 non-null   object\n",
            " 7   couleur-pied-sur-anneau  8124 non-null   object\n",
            " 8   couleur-voile            8124 non-null   object\n",
            " 9   type-anneau              8124 non-null   object\n",
            " 10  population               8124 non-null   object\n",
            "dtypes: object(11)\n",
            "memory usage: 698.3+ KB\n"
          ]
        }
      ]
    },
    {
      "cell_type": "code",
      "source": [
        "dataFrame['toxicite'].value_counts().unique()[1]"
      ],
      "metadata": {
        "id": "Nd_YxrHRwr0u",
        "outputId": "6fb1330d-9229-4106-869d-bbb3978d67df",
        "colab": {
          "base_uri": "https://localhost:8080/"
        }
      },
      "execution_count": 29,
      "outputs": [
        {
          "output_type": "execute_result",
          "data": {
            "text/plain": [
              "3916"
            ]
          },
          "metadata": {},
          "execution_count": 29
        }
      ]
    },
    {
      "cell_type": "code",
      "source": [
        "dataFrame['toxicite'].isnull().sum()"
      ],
      "metadata": {
        "id": "1sWFrLRXxNwS",
        "outputId": "1518b1d5-762d-4b4a-fb4f-6b98b407e539",
        "colab": {
          "base_uri": "https://localhost:8080/"
        }
      },
      "execution_count": 22,
      "outputs": [
        {
          "output_type": "execute_result",
          "data": {
            "text/plain": [
              "0"
            ]
          },
          "metadata": {},
          "execution_count": 22
        }
      ]
    },
    {
      "cell_type": "markdown",
      "metadata": {
        "id": "wbvAuXwep7Q7"
      },
      "source": [
        "1.2 Encoder les données avec une colonne 1/0 par valeur possible.Eviter de générer une matrice \"sparse\"\\\n",
        "Afficher la taille des données (lignes x colonnes) et les noms de colonnes générées.\\\n",
        "https://scikit-learn.org/stable/modules/generated/sklearn.preprocessing.OneHotEncoder.html#sklearn.preprocessing.OneHotEncoder"
      ]
    },
    {
      "cell_type": "code",
      "execution_count": 24,
      "metadata": {
        "id": "_kt93RYqp7Q8",
        "outputId": "589d90e8-6be2-4143-ef5b-4ec353751959",
        "colab": {
          "base_uri": "https://localhost:8080/"
        }
      },
      "outputs": [
        {
          "output_type": "execute_result",
          "data": {
            "text/plain": [
              "(8124, 42)"
            ]
          },
          "metadata": {},
          "execution_count": 24
        }
      ],
      "source": [
        "encoder = OneHotEncoder(sparse_output=False)\n",
        "dataFrame_encoded = encoder.fit_transform(dataFrame)\n",
        "dataFrame_encoded = pd.DataFrame(dataFrame_encoded, columns=encoder.get_feature_names_out(dataFrame.columns))\n",
        "\n",
        "dataFrame_encoded.shape\n"
      ]
    },
    {
      "cell_type": "code",
      "source": [
        "dataFrame_encoded.columns.tolist()"
      ],
      "metadata": {
        "id": "utVy0udYBVzS",
        "outputId": "d073764f-0e5e-42a1-9481-2ffcba8b7a83",
        "colab": {
          "base_uri": "https://localhost:8080/"
        }
      },
      "execution_count": 25,
      "outputs": [
        {
          "output_type": "execute_result",
          "data": {
            "text/plain": [
              "['toxicite_comestible',\n",
              " 'toxicite_toxique',\n",
              " 'surface-chapeau_fibreuse',\n",
              " 'surface-chapeau_lisse',\n",
              " 'surface-chapeau_rainurée',\n",
              " 'surface-chapeau_écaillée',\n",
              " 'ecchymoses_non',\n",
              " 'ecchymoses_oui',\n",
              " 'attache-lamelles_adhérent',\n",
              " 'attache-lamelles_libre',\n",
              " 'taille-lamelles_large',\n",
              " 'taille-lamelles_étroit',\n",
              " 'forme-pied_effilé',\n",
              " 'forme-pied_élargissant',\n",
              " 'surface-pied-sur-anneau_fibreuse',\n",
              " 'surface-pied-sur-anneau_lisse',\n",
              " 'surface-pied-sur-anneau_soyeuse',\n",
              " 'surface-pied-sur-anneau_écaillée',\n",
              " 'couleur-pied-sur-anneau_beige',\n",
              " 'couleur-pied-sur-anneau_blanc',\n",
              " 'couleur-pied-sur-anneau_brun',\n",
              " 'couleur-pied-sur-anneau_cannelle',\n",
              " 'couleur-pied-sur-anneau_gris',\n",
              " 'couleur-pied-sur-anneau_jaune',\n",
              " 'couleur-pied-sur-anneau_orange',\n",
              " 'couleur-pied-sur-anneau_rose',\n",
              " 'couleur-pied-sur-anneau_rouge',\n",
              " 'couleur-voile_blanc',\n",
              " 'couleur-voile_brun',\n",
              " 'couleur-voile_jaune',\n",
              " 'couleur-voile_orange',\n",
              " 'type-anneau_aucun',\n",
              " 'type-anneau_fibreux',\n",
              " 'type-anneau_large',\n",
              " 'type-anneau_pendant',\n",
              " 'type-anneau_évasé',\n",
              " 'population_abondante',\n",
              " 'population_clairsemée',\n",
              " 'population_dispersée',\n",
              " 'population_nombreuse',\n",
              " 'population_solitaire',\n",
              " 'population_variée']"
            ]
          },
          "metadata": {},
          "execution_count": 25
        }
      ]
    },
    {
      "cell_type": "markdown",
      "metadata": {
        "id": "MqdiQD_Dp7Q9"
      },
      "source": [
        "1.3 Créer un nouveau DataFrame avec les données et les noms de colonne. Mélanger les données. Afficher le résultat."
      ]
    },
    {
      "cell_type": "code",
      "execution_count": null,
      "metadata": {
        "id": "eudWw8wUp7Q-"
      },
      "outputs": [],
      "source": []
    },
    {
      "cell_type": "markdown",
      "metadata": {
        "id": "jVxy5xh9p7Q-"
      },
      "source": [
        "1.4 Creer 4 jeux de données : train features et labels (70%) et dev features et labels (30%).\\\n",
        "Utiliser toxicite_toxique comme label. Ne pas garder de label (toxicite_toxique et toxicite_comestible) dans les features !"
      ]
    },
    {
      "cell_type": "code",
      "execution_count": null,
      "metadata": {
        "id": "PXzxaPgop7Q_"
      },
      "outputs": [],
      "source": []
    },
    {
      "cell_type": "markdown",
      "metadata": {
        "id": "vziWWAuFp7Q_"
      },
      "source": [
        "## 2. Arbre de décision"
      ]
    },
    {
      "cell_type": "markdown",
      "metadata": {
        "id": "1PBQCfgfp7Q_"
      },
      "source": [
        "2.1 Entrainer un arbre de décision sur les données d'apprentissage. Afficher l'arbre obtenu en utilisant plot_tree."
      ]
    },
    {
      "cell_type": "code",
      "execution_count": null,
      "metadata": {
        "id": "TjboNcD7p7Q_"
      },
      "outputs": [],
      "source": [
        "import matplotlib.pyplot as plt"
      ]
    },
    {
      "cell_type": "markdown",
      "metadata": {
        "id": "NKwpLsRfp7RA"
      },
      "source": [
        "2.2 Afficher l'arbre obtenu en utilisant graphwiz"
      ]
    },
    {
      "cell_type": "code",
      "execution_count": null,
      "metadata": {
        "id": "VmXlFicCp7RA"
      },
      "outputs": [],
      "source": []
    },
    {
      "cell_type": "markdown",
      "metadata": {
        "id": "T91Ilxg3p7RB"
      },
      "source": [
        "2.3 Mesurer la précision du modèle sur les données de dev"
      ]
    },
    {
      "cell_type": "code",
      "execution_count": null,
      "metadata": {
        "id": "8zqSpXDpp7RB"
      },
      "outputs": [],
      "source": []
    },
    {
      "cell_type": "markdown",
      "metadata": {
        "id": "AkP_-1x_p7RC"
      },
      "source": [
        "## 3. Modèle de forêt"
      ]
    },
    {
      "cell_type": "markdown",
      "metadata": {
        "id": "bKZQZnPQp7RC"
      },
      "source": [
        "3.1 Réalisez un algorithme de Random Forest sur les données. Utiliser 500 arbres et une profondeur de 6."
      ]
    },
    {
      "cell_type": "code",
      "execution_count": null,
      "metadata": {
        "id": "rszyOhdEp7RC"
      },
      "outputs": [],
      "source": []
    },
    {
      "cell_type": "markdown",
      "metadata": {
        "id": "ceugxusZp7RC"
      },
      "source": [
        "3.2 Afficher trois arbres au hasard."
      ]
    },
    {
      "cell_type": "code",
      "execution_count": null,
      "metadata": {
        "id": "wWGSKEJ8p7RD"
      },
      "outputs": [],
      "source": [
        "from random import randint\n"
      ]
    },
    {
      "cell_type": "markdown",
      "metadata": {
        "id": "bfWId7lop7RD"
      },
      "source": [
        "3.3 Mesurer la précision du modèle Random Forest sur les données de dev"
      ]
    },
    {
      "cell_type": "code",
      "execution_count": null,
      "metadata": {
        "id": "TPVrvaDRp7RD"
      },
      "outputs": [],
      "source": []
    },
    {
      "cell_type": "markdown",
      "metadata": {
        "id": "ftaiGXaYp7RD"
      },
      "source": [
        "## 4. optimisation des paramètres"
      ]
    },
    {
      "cell_type": "markdown",
      "metadata": {
        "id": "B_xNIZ6yp7RD"
      },
      "source": [
        "4.1 chercher l'ensembles de données la meilleure combinaison sur max_depth/n_estimator.\n",
        "\n",
        "Afficher les paramètre du modèle et a précision obtenue.\n",
        "\n",
        "Réexécuter un apprentissage avec la meilleure combinaison.\n"
      ]
    },
    {
      "cell_type": "code",
      "execution_count": null,
      "metadata": {
        "id": "Q51xe7Chp7RE"
      },
      "outputs": [],
      "source": [
        "from sklearn.model_selection import GridSearchCV\n"
      ]
    },
    {
      "cell_type": "markdown",
      "metadata": {
        "id": "Ca6I-mqGp7RE"
      },
      "source": [
        "4.2 Afficher les paramètres optimaux et la précisions obtenue sur les données dev"
      ]
    },
    {
      "cell_type": "code",
      "execution_count": null,
      "metadata": {
        "id": "pd2LxXaip7RE"
      },
      "outputs": [],
      "source": []
    },
    {
      "cell_type": "markdown",
      "metadata": {
        "id": "amG-ubP5p7RF"
      },
      "source": [
        "4.3 Classer et Afficher les caractéristiques d'importance supérieure à 1%"
      ]
    },
    {
      "cell_type": "code",
      "execution_count": null,
      "metadata": {
        "id": "PBwEh2qqp7RF"
      },
      "outputs": [],
      "source": []
    },
    {
      "cell_type": "markdown",
      "metadata": {
        "id": "PDEr83Evp7RG"
      },
      "source": [
        "## 5. Stacking\n",
        "\n",
        "Essayer différents modèles d'estimateur final"
      ]
    },
    {
      "cell_type": "code",
      "execution_count": null,
      "metadata": {
        "id": "Yh359OmEp7RG"
      },
      "outputs": [],
      "source": [
        "from sklearn.pipeline import make_pipeline\n",
        "from sklearn.preprocessing import StandardScaler\n",
        "from sklearn.svm import SVC\n",
        "from sklearn.linear_model import LogisticRegression\n",
        "from sklearn.naive_bayes import GaussianNB\n",
        "from sklearn.linear_model import Perceptron\n",
        "from sklearn.ensemble import StackingClassifier\n"
      ]
    },
    {
      "cell_type": "markdown",
      "metadata": {
        "id": "suX-d7kHp7RH"
      },
      "source": [
        "## 6. Gradient Boosting"
      ]
    },
    {
      "cell_type": "markdown",
      "metadata": {
        "id": "gCBWWtbEp7RI"
      },
      "source": [
        "6. Exécuter un apprentissage de Gradient Boosting avec et sans \"Early Stopping\" sur le nombre d'estimateurs. Comparer avec le résultat sur les données dev."
      ]
    },
    {
      "cell_type": "code",
      "execution_count": null,
      "metadata": {
        "id": "T97TWvakp7RI"
      },
      "outputs": [],
      "source": [
        "\n"
      ]
    },
    {
      "cell_type": "markdown",
      "metadata": {
        "id": "_9hHb6Ubp7RI"
      },
      "source": [
        "## 7. (Optionnel) Recommencer les execices précédents en utilisant les \"ordinal encoders\". Que remarquez-vous ?"
      ]
    }
  ],
  "metadata": {
    "kernelspec": {
      "display_name": "Python 3",
      "language": "python",
      "name": "python3"
    },
    "language_info": {
      "codemirror_mode": {
        "name": "ipython",
        "version": 3
      },
      "file_extension": ".py",
      "mimetype": "text/x-python",
      "name": "python",
      "nbconvert_exporter": "python",
      "pygments_lexer": "ipython3",
      "version": "3.12.4"
    },
    "orig_nbformat": 4,
    "colab": {
      "provenance": [],
      "include_colab_link": true
    }
  },
  "nbformat": 4,
  "nbformat_minor": 0
}